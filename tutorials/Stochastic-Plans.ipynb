{
 "cells": [
  {
   "cell_type": "markdown",
   "id": "869f7ae0",
   "metadata": {},
   "source": [
    "# M-estimation of stochastic action plans\n",
    "Generally, we are interested in the estimation of deterministic action plans. For example, we may want to estimate the mean of an outcome with everyone under action $a=1$. Using potential outcomes, this quantity is\n",
    "$$E[Y(a=1)]$$\n",
    "where $Y(a)$ is the potential outcome under action $a$ (and observations are assumed to be IID).\n",
    "\n",
    "A competing estimand is the outcome mean under a stochastic plan. Namely, the stochastic plan sets the *probability* of an action for each individual. We denote this investigator-specified probability by $\\Pr^*(A=1 | W)$, where $A$ is the action and $W$ is baseline covariates. The stochastic mean can be denoted as\n",
    "$$E[Y(a=1) \\Pr^*(A=1 | W)]$$\n",
    "Notice the deterministic plan is a special case of a stochastic plan, where $\\Pr^*(A=1 | W) = 1$ (and reduces to the previous). \n",
    "\n",
    "A variety of $\\Pr^*(A=1 | W)$ functions can be specified. One general example is to set the probability to a constant, $\\Pr^*(A=1 | W) = \\alpha$. For example, $\\alpha = 0.5$ would correspond to the mean had everyone given given a 50% chance of $a=1$. This type of investigator-specified function could further be made to change based on the baseline covariates $W$. \n",
    "\n",
    "Perhaps a more realistic alternative (or rather a investigator function more amenable to actual implementation) are shifts in an individual's probability of an action. If $\\Pr(A=1 | W)$ denotes the population conditional probability of  an action, then we can consider the policy\n",
    "$$\\Pr^*(A=1 | W) = \\text{logit}(\\Pr(A=1 | W) + \\delta)$$\n",
    "where $\\delta$ indicates a shift in the log-odds of the action. Therefore, this plan can be viewed as an intervention which increases (or decreases for $\\delta < 0$) the uptake of action $a=1$. Hereafter, our tutorial focuses on this latter parameter. \n",
    "\n",
    "To estimate the mean under our stochastic plan, we use the following inverse probability weighting estimator\n",
    "$$\\mu_{IPW} = \\sum_{i=1}^n Y_i \\frac{\\Pr^*(A_i=1|W_i)}{\\Pr(A_i=1 | W_i)}$$\n",
    "\n",
    "\n",
    "## Overview\n",
    "Here, we demonstrate how M-estimation can be used to estimate the mean under stochastic action plans. Specifically, we demonstrate plans where the probability of $A=1$ is shifted, which involves estimation of the conditional probability of $A=1$. We discuss a the pitfall: estimation of the probability to be shifted is treated as known. We show how M-estimation (and the sandwich variance) can easily accomodate this feature."
   ]
  },
  {
   "cell_type": "code",
   "execution_count": 1,
   "id": "8751c5ae",
   "metadata": {},
   "outputs": [
    {
     "name": "stdout",
     "output_type": "stream",
     "text": [
      "NumPy version:        1.19.5\n",
      "SciPy version:        1.5.4\n",
      "Pandas version:       1.1.5\n",
      "Delicatessen version: 0.2\n"
     ]
    }
   ],
   "source": [
    "# Initial setup\n",
    "import numpy as np\n",
    "import scipy as sp\n",
    "import pandas as pd\n",
    "import matplotlib.pyplot as plt\n",
    "%matplotlib inline\n",
    "\n",
    "import delicatessen\n",
    "from delicatessen import MEstimator\n",
    "from delicatessen.estimating_equations import ee_logistic_regression \n",
    "from delicatessen.estimating_equations import ee_ridge_linear_regression\n",
    "from delicatessen.utilities import inverse_logit\n",
    "\n",
    "np.random.seed(51520837)\n",
    "\n",
    "print(\"NumPy version:       \", np.__version__)\n",
    "print(\"SciPy version:       \", sp.__version__)\n",
    "print(\"Pandas version:      \", pd.__version__)\n",
    "print(\"Delicatessen version:\", delicatessen.__version__)"
   ]
  },
  {
   "cell_type": "markdown",
   "id": "250158a9",
   "metadata": {},
   "source": [
    "## Motivating Problem\n",
    "To motivate our discussion, we will consider data generated according to the following diagram. "
   ]
  },
  {
   "cell_type": "code",
   "execution_count": 2,
   "id": "94b70945",
   "metadata": {},
   "outputs": [
    {
     "data": {
      "text/plain": [
       "<AxesSubplot:>"
      ]
     },
     "execution_count": 2,
     "metadata": {},
     "output_type": "execute_result"
    },
    {
     "data": {
      "image/png": "[encoded data removed]",
      "text/plain": [
       "<Figure size 432x360 with 1 Axes>"
      ]
     },
     "metadata": {},
     "output_type": "display_data"
    }
   ],
   "source": [
    "from zepid.causal.causalgraph import DirectedAcyclicGraph\n",
    "from zepid.graphics import pvalue_plot\n",
    "\n",
    "dag = DirectedAcyclicGraph(exposure=\"A\", outcome=\"Y\")\n",
    "dag.add_arrows(pairs=((\"A\", \"Y\"), \n",
    "                      (\"W\", \"Y\"), (\"W\", \"A\")))\n",
    "pos = {\"A\": [0, 0], \"Y\": [1, 0], \"W\": [-1, 0.01]}\n",
    "dag.draw_dag(positions=pos)"
   ]
  },
  {
   "cell_type": "markdown",
   "id": "a3b16373",
   "metadata": {},
   "source": [
    "The following generates 1000 observations that adhere to the causal diagram"
   ]
  },
  {
   "cell_type": "code",
   "execution_count": 3,
   "id": "02ba7c6d",
   "metadata": {},
   "outputs": [
    {
     "data": {
      "text/html": [
       "<div>\n",
       "<style scoped>\n",
       "    .dataframe tbody tr th:only-of-type {\n",
       "        vertical-align: middle;\n",
       "    }\n",
       "\n",
       "    .dataframe tbody tr th {\n",
       "        vertical-align: top;\n",
       "    }\n",
       "\n",
       "    .dataframe thead th {\n",
       "        text-align: right;\n",
       "    }\n",
       "</style>\n",
       "<table border=\"1\" class=\"dataframe\">\n",
       "  <thead>\n",
       "    <tr style=\"text-align: right;\">\n",
       "      <th></th>\n",
       "      <th>W</th>\n",
       "      <th>A</th>\n",
       "      <th>Y</th>\n",
       "      <th>C</th>\n",
       "    </tr>\n",
       "  </thead>\n",
       "  <tbody>\n",
       "    <tr>\n",
       "      <th>count</th>\n",
       "      <td>1000.000000</td>\n",
       "      <td>1000.00000</td>\n",
       "      <td>1000.000000</td>\n",
       "      <td>1000.0</td>\n",
       "    </tr>\n",
       "    <tr>\n",
       "      <th>mean</th>\n",
       "      <td>0.001030</td>\n",
       "      <td>0.50000</td>\n",
       "      <td>26.240595</td>\n",
       "      <td>1.0</td>\n",
       "    </tr>\n",
       "    <tr>\n",
       "      <th>std</th>\n",
       "      <td>0.981461</td>\n",
       "      <td>0.50025</td>\n",
       "      <td>2.053081</td>\n",
       "      <td>0.0</td>\n",
       "    </tr>\n",
       "    <tr>\n",
       "      <th>min</th>\n",
       "      <td>-3.748238</td>\n",
       "      <td>0.00000</td>\n",
       "      <td>17.445751</td>\n",
       "      <td>1.0</td>\n",
       "    </tr>\n",
       "    <tr>\n",
       "      <th>25%</th>\n",
       "      <td>-0.657874</td>\n",
       "      <td>0.00000</td>\n",
       "      <td>25.099512</td>\n",
       "      <td>1.0</td>\n",
       "    </tr>\n",
       "    <tr>\n",
       "      <th>50%</th>\n",
       "      <td>-0.004908</td>\n",
       "      <td>0.50000</td>\n",
       "      <td>26.373613</td>\n",
       "      <td>1.0</td>\n",
       "    </tr>\n",
       "    <tr>\n",
       "      <th>75%</th>\n",
       "      <td>0.659594</td>\n",
       "      <td>1.00000</td>\n",
       "      <td>27.453567</td>\n",
       "      <td>1.0</td>\n",
       "    </tr>\n",
       "    <tr>\n",
       "      <th>max</th>\n",
       "      <td>2.757382</td>\n",
       "      <td>1.00000</td>\n",
       "      <td>34.671126</td>\n",
       "      <td>1.0</td>\n",
       "    </tr>\n",
       "  </tbody>\n",
       "</table>\n",
       "</div>"
      ],
      "text/plain": [
       "                 W           A            Y       C\n",
       "count  1000.000000  1000.00000  1000.000000  1000.0\n",
       "mean      0.001030     0.50000    26.240595     1.0\n",
       "std       0.981461     0.50025     2.053081     0.0\n",
       "min      -3.748238     0.00000    17.445751     1.0\n",
       "25%      -0.657874     0.00000    25.099512     1.0\n",
       "50%      -0.004908     0.50000    26.373613     1.0\n",
       "75%       0.659594     1.00000    27.453567     1.0\n",
       "max       2.757382     1.00000    34.671126     1.0"
      ]
     },
     "execution_count": 3,
     "metadata": {},
     "output_type": "execute_result"
    }
   ],
   "source": [
    "n = 1000  # Generating lots of observations to reduce randomness\n",
    "\n",
    "# Generating baseline covariates\n",
    "d = pd.DataFrame()\n",
    "d['W'] = np.random.normal(size=n)\n",
    "\n",
    "# Generating actions\n",
    "pr_a = sp.stats.logistic.cdf(0. + 0.9*d['W'])\n",
    "d['A'] = np.random.binomial(n=1, p=pr_a,\n",
    "                            size=n)\n",
    "\n",
    "# Generating potential outcomes\n",
    "d['Ya1'] = (25 + 2 - 2.5*d['W'] \n",
    "            + 1.6*1*d['W']\n",
    "            + np.random.normal(size=n))\n",
    "d['Ya0'] = (25 + 0 - 2.5*d['W'] \n",
    "            + 1.6*0*d['W']\n",
    "            + np.random.normal(size=n))\n",
    "# Generating outcomes via causal consistency\n",
    "d['Y'] = np.where(d['A'] == 1, d['Ya1'], d['Ya0'])\n",
    "\n",
    "# Data we get to see\n",
    "d = d[[\"W\", \"A\", \"Y\"]].copy()\n",
    "d['C'] = 1\n",
    "d.describe()"
   ]
  },
  {
   "cell_type": "markdown",
   "id": "b10b005a",
   "metadata": {},
   "source": [
    "# Estimation\n",
    "Here, we estimate the probability of $A$. Those probabilities are then shifted according to our policy (plus 1.5 to the log-odds of $A$). The shifted probability is treated an being estimated in this M-estimator (since the coefficients for the model are all being estimated inside the `psi` function)."
   ]
  },
  {
   "cell_type": "code",
   "execution_count": 4,
   "id": "04ba5659",
   "metadata": {},
   "outputs": [
    {
     "name": "stdout",
     "output_type": "stream",
     "text": [
      "======================================\n",
      "Accounting for Confounding\n",
      "======================================\n",
      "ACE:    26.765\n",
      "95% CI: [26.642 26.888]\n",
      "======================================\n"
     ]
    }
   ],
   "source": [
    "# Extracting covariates for use in psi()\n",
    "W = np.asarray(d[['C', 'W']])\n",
    "A = np.asarray(d['A'])\n",
    "y = np.asarray(d['Y'])\n",
    "\n",
    "delta = 1.5\n",
    "\n",
    "\n",
    "def psi(theta):\n",
    "    beta = theta[1:]\n",
    "    \n",
    "    # Estimating Pr(A=1|W=w) for weights\n",
    "    a_model = ee_logistic_regression(beta, \n",
    "                                      X=W, y=A)\n",
    "    logit_pi_aw = np.dot(W, beta)\n",
    "    \n",
    "    # Constructing denominator of weights\n",
    "    pi_a = inverse_logit(logit_pi_aw)\n",
    "    \n",
    "    # Constructing numerator of weights\n",
    "    pi_a_delta = inverse_logit(logit_pi_aw + delta)\n",
    "    \n",
    "    # Creating IPW\n",
    "    ipw = np.where(A==1, pi_a_delta/pi_a, (1-pi_a_delta)/(1-pi_a))\n",
    "\n",
    "    # Calculating mean at stochastic policy\n",
    "    ya_delta = y*ipw - theta[0]\n",
    "    \n",
    "    # Returning estimating equations\n",
    "    return np.vstack((ya_delta[None, :],\n",
    "                      a_model))\n",
    "\n",
    "\n",
    "# Estimating equation\n",
    "starting_vals = [0, 0, 0]\n",
    "estr1 = MEstimator(psi, init=starting_vals)\n",
    "estr1.estimate(solver='lm')\n",
    "\n",
    "mean = estr1.theta[0]\n",
    "var = estr1.variance[0, 0]\n",
    "ci = estr1.confidence_intervals()[0, :]\n",
    "\n",
    "print(\"======================================\")\n",
    "print(\"Accounting for Confounding\")\n",
    "print(\"======================================\")\n",
    "print(\"ACE:   \", np.round(mean, 3))\n",
    "print(\"95% CI:\", np.round(ci, 3))\n",
    "print(\"======================================\")"
   ]
  },
  {
   "cell_type": "markdown",
   "id": "20917536",
   "metadata": {},
   "source": [
    "This second M-estimator treats the probabilities being shifted as *known*. This can be seen by the coefficients used to construct `pi_a_delta` being estimated outside of the `psi` function (the coefficients are pulled from the previous model). Therefore, this M-estimator (incorrectly) assumes that the stochastic plan is *known*."
   ]
  },
  {
   "cell_type": "code",
   "execution_count": 5,
   "id": "d87fec7d",
   "metadata": {},
   "outputs": [
    {
     "name": "stdout",
     "output_type": "stream",
     "text": [
      "======================================\n",
      "Accounting for Confounding\n",
      "======================================\n",
      "ACE:    26.765\n",
      "95% CI: [26.648 26.882]\n",
      "======================================\n"
     ]
    }
   ],
   "source": [
    "# Extracting covariates for use in psi()\n",
    "W = np.asarray(d[['C', 'W']])\n",
    "A = np.asarray(d['A'])\n",
    "y = np.asarray(d['Y'])\n",
    "\n",
    "# previous coefficients\n",
    "coefs = estr1.theta[1:]\n",
    "delta = 1.5\n",
    "\n",
    "\n",
    "def psi(theta):\n",
    "    beta = theta[1:]\n",
    "    \n",
    "    # Estimating Pr(A=1|W=w) and weights\n",
    "    a_model = ee_logistic_regression(beta, \n",
    "                                      X=W, y=A)\n",
    "    logit_pi_aw = np.dot(W, beta)\n",
    "    \n",
    "    # Constructing denominator of weights\n",
    "    pi_a = inverse_logit(logit_pi_aw)\n",
    "    \n",
    "    # Constructing numerator of weights\n",
    "    pi_a_delta = inverse_logit(np.dot(W, coefs) + delta)\n",
    "    \n",
    "    # Creating IPW\n",
    "    ipw = np.where(A==1, pi_a_delta/pi_a, (1-pi_a_delta)/(1-pi_a))\n",
    "\n",
    "    # Calculating ACE\n",
    "    ya_delta = y*ipw - theta[0]\n",
    "    return np.vstack((ya_delta[None, :],\n",
    "                      a_model))\n",
    "\n",
    "starting_vals = [0, 0, 0]\n",
    "estr2 = MEstimator(psi, init=starting_vals)\n",
    "estr2.estimate(solver='lm')\n",
    "\n",
    "mean2 = estr2.theta[0]\n",
    "var2 = estr2.variance[0, 0]\n",
    "ci2 = estr2.confidence_intervals()[0, :]\n",
    "\n",
    "print(\"======================================\")\n",
    "print(\"Accounting for Confounding\")\n",
    "print(\"======================================\")\n",
    "print(\"ACE:   \", np.round(mean2, 3))\n",
    "print(\"95% CI:\", np.round(ci2, 3))\n",
    "print(\"======================================\")"
   ]
  },
  {
   "cell_type": "markdown",
   "id": "85f40672",
   "metadata": {},
   "source": [
    "While not extreme in this example, we can see that the confidence interval difference is smaller for the latter estimator. Ignoring the fact that we need to estimate pieces of the stochastic plan leads to a false sense of greater precision. The first estimator is what should be used here."
   ]
  },
  {
   "cell_type": "markdown",
   "id": "e4da56a2",
   "metadata": {},
   "source": [
    "## Simulation study\n",
    "To better explore the difference between these two competing estimators, below is a simple simulation study. We will compare bias (no difference expected) and confidence interval coverage (the latter estimator may have below expected confidence interval coverage). We evaluate for a variety of values: $-5 \\le \\delta \\le 5$."
   ]
  },
  {
   "cell_type": "code",
   "execution_count": 6,
   "id": "0686a9c3",
   "metadata": {},
   "outputs": [],
   "source": [
    "def dgm_true(delta):\n",
    "    n = 1000000\n",
    "    d = pd.DataFrame()\n",
    "    d['W'] = np.random.normal(size=n)\n",
    "    pr_a = sp.stats.logistic.cdf(0. + 0.9*d['W'] + delta)\n",
    "    d['A'] = np.random.binomial(n=1, p=pr_a,\n",
    "                                size=n)\n",
    "    d['Ya1'] = (25 + 2 - 2.5*d['W'] \n",
    "                + 1.6*1*d['W']\n",
    "                + np.random.normal(size=n))\n",
    "    d['Ya0'] = (25 + 0 - 2.5*d['W'] \n",
    "                + 1.6*0*d['W']\n",
    "                + np.random.normal(size=n))\n",
    "    d['Y'] = np.where(d['A'] == 1, d['Ya1'], d['Ya0'])\n",
    "    return np.mean(d['Y'])\n",
    "\n",
    "\n",
    "def dgm(n):\n",
    "    d = pd.DataFrame()\n",
    "    d['W'] = np.random.normal(size=n)\n",
    "    pr_a = sp.stats.logistic.cdf(0. + 0.9*d['W'])\n",
    "    d['A'] = np.random.binomial(n=1, p=pr_a,\n",
    "                                size=n)\n",
    "    d['Ya1'] = (25 + 2 - 2.5*d['W'] \n",
    "                + 1.6*1*d['W']\n",
    "                + np.random.normal(size=n))\n",
    "    d['Ya0'] = (25 + 0 - 2.5*d['W'] \n",
    "                + 1.6*0*d['W']\n",
    "                + np.random.normal(size=n))\n",
    "    d['Y'] = np.where(d['A'] == 1, d['Ya1'], d['Ya0'])\n",
    "    d['C'] = 1\n",
    "    return d[[\"W\", \"A\", \"C\", \"Y\"]]\n",
    "\n",
    "\n",
    "def psi_estr1(theta, delta, W, A, y):\n",
    "    beta = theta[1:]\n",
    "\n",
    "    # Estimating Pr(A=1|W=w) for weights\n",
    "    a_model = ee_logistic_regression(beta, \n",
    "                                      X=W, y=A)\n",
    "    logit_pi_aw = np.dot(W, beta)\n",
    "\n",
    "    # Constructing denominator of weights\n",
    "    pi_a = inverse_logit(logit_pi_aw)\n",
    "\n",
    "    # Constructing numerator of weights\n",
    "    pi_a_delta = inverse_logit(logit_pi_aw + delta)\n",
    "\n",
    "    # Creating IPW\n",
    "    ipw = np.where(A==1, pi_a_delta/pi_a, (1-pi_a_delta)/(1-pi_a))\n",
    "\n",
    "    # Calculating mean at stochastic policy\n",
    "    ya_delta = y*ipw - theta[0]\n",
    "\n",
    "    # Returning estimating equations\n",
    "    return np.vstack((ya_delta[None, :],\n",
    "                      a_model))\n",
    "\n",
    "\n",
    "def psi_estr2(theta, delta, W, A, y, coefs):\n",
    "    beta = theta[1:]\n",
    "\n",
    "    # Estimating Pr(A=1|W=w) for weights\n",
    "    a_model = ee_logistic_regression(beta, \n",
    "                                      X=W, y=A)\n",
    "    logit_pi_aw = np.dot(W, beta)\n",
    "\n",
    "    # Constructing denominator of weights\n",
    "    pi_a = inverse_logit(logit_pi_aw)\n",
    "\n",
    "    # Constructing numerator of weights\n",
    "    pi_a_delta = inverse_logit(np.dot(W, coefs) + delta)\n",
    "\n",
    "    # Creating IPW\n",
    "    ipw = np.where(A==1, pi_a_delta/pi_a, (1-pi_a_delta)/(1-pi_a))\n",
    "\n",
    "    # Calculating mean at stochastic policy\n",
    "    ya_delta = y*ipw - theta[0]\n",
    "\n",
    "    # Returning estimating equations\n",
    "    return np.vstack((ya_delta[None, :],\n",
    "                      a_model))"
   ]
  },
  {
   "cell_type": "code",
   "execution_count": 7,
   "id": "55206b3a",
   "metadata": {},
   "outputs": [],
   "source": [
    "delta = np.linspace(-5, 5, 41)\n",
    "\n",
    "truth = {}\n",
    "est_estr1, est_estr2 = {}, {}\n",
    "ci_estr1, ci_estr2 = {}, {}\n",
    "for d in delta:\n",
    "    truth[d] = dgm_true(delta=d)\n",
    "    est_estr1[d], est_estr2[d] = [], []\n",
    "    ci_estr1[d], ci_estr2[d] = [], []\n",
    "\n",
    "\n",
    "# Ignoring any warnings in the sims (to keep output clean)\n",
    "import warnings\n",
    "warnings.filterwarnings(\"ignore\")"
   ]
  },
  {
   "cell_type": "code",
   "execution_count": 8,
   "id": "fceac287",
   "metadata": {},
   "outputs": [],
   "source": [
    "for i in range(4000):\n",
    "    data = dgm(n=1000)\n",
    "    for d in delta:\n",
    "        W = np.asarray(data[['C', 'W']])\n",
    "        A = np.asarray(data['A'])\n",
    "        y = np.asarray(data['Y'])\n",
    "        \n",
    "        # First option\n",
    "        def psi(theta):\n",
    "            return psi_estr1(theta=theta, delta=d,\n",
    "                             W=W, A=A, y=y)\n",
    "\n",
    "        starting_vals = [0, -0.1, 0.7]\n",
    "        estr = MEstimator(psi, init=starting_vals)\n",
    "        estr.estimate(solver='newton', maxiter=20000)\n",
    "        est_estr1[d].append(estr.theta[0] - truth[d])\n",
    "        ci = estr.confidence_intervals()[0, :]\n",
    "        if ci[0] < truth[d] and ci[1] > truth[d]:\n",
    "            ci_estr1[d].append(1)\n",
    "        else:\n",
    "            ci_estr1[d].append(0)\n",
    "\n",
    "        # Second option\n",
    "        # previously optimized coefs\n",
    "        coefficients = estr.theta[1:]\n",
    "        def psi(theta):\n",
    "            return psi_estr2(theta=theta, delta=d,\n",
    "                             W=W, A=A, y=y, coefs=coefficients)\n",
    "\n",
    "        starting_vals = [0, -0.1, 0.7]\n",
    "        estr = MEstimator(psi, init=starting_vals)\n",
    "        estr.estimate(solver='newton', maxiter=20000)\n",
    "        est_estr2[d].append(estr.theta[0] - truth[d])\n",
    "        if ci[0] < truth[d] and ci[1] > truth[d]:\n",
    "            ci_estr2[d].append(1)\n",
    "        else:\n",
    "            ci_estr2[d].append(0)\n"
   ]
  },
  {
   "cell_type": "code",
   "execution_count": 9,
   "id": "1e44972f",
   "metadata": {},
   "outputs": [
    {
     "data": {
      "image/png": "[encoded data removed]",
      "text/plain": [
       "<Figure size 864x360 with 2 Axes>"
      ]
     },
     "metadata": {
      "needs_background": "light"
     },
     "output_type": "display_data"
    }
   ],
   "source": [
    "estr1_bias, estr2_bias = {}, {}\n",
    "estr1_lower, estr2_lower = {}, {}\n",
    "estr1_upper, estr2_upper = {}, {}\n",
    "for d in delta:\n",
    "    estr1_bias[d] = np.mean(est_estr1[d])\n",
    "    estr2_bias[d] = np.mean(est_estr2[d])\n",
    "    estr1_lower[d] = np.quantile(est_estr1[d], q=0.05)\n",
    "    estr2_lower[d] = np.quantile(est_estr2[d], q=0.05)\n",
    "    estr1_upper[d] = np.quantile(est_estr1[d], q=0.95)\n",
    "    estr2_upper[d] = np.quantile(est_estr2[d], q=0.95)\n",
    "\n",
    "\n",
    "plt.figure(figsize=[12, 5])\n",
    "plt.subplot(121)\n",
    "plt.plot(estr1_bias.keys(), estr1_bias.values(), 'o-', color='blue')\n",
    "plt.plot(estr1_lower.keys(), estr1_lower.values(), 'o-', color='red')\n",
    "plt.plot(estr1_upper.keys(), estr1_upper.values(), 'o-', color='red')\n",
    "plt.xlabel(r\"$\\delta$\")\n",
    "plt.ylabel(\"Mean under \\n stochastic plan\")\n",
    "plt.ylim([-0.5, 0.5])\n",
    "\n",
    "plt.subplot(122)\n",
    "plt.plot(estr2_bias.keys(), estr2_bias.values(), 'o-', color='blue')\n",
    "plt.plot(estr1_lower.keys(), estr1_lower.values(), 'o-', color='red')\n",
    "plt.plot(estr1_upper.keys(), estr1_upper.values(), 'o-', color='red')\n",
    "plt.xlabel(r\"$\\delta$\")\n",
    "plt.ylabel(\"Mean under \\n stochastic plan\")\n",
    "plt.ylim([-0.5, 0.5])\n",
    "\n",
    "plt.tight_layout()"
   ]
  },
  {
   "cell_type": "code",
   "execution_count": 10,
   "id": "cb8a299e",
   "metadata": {},
   "outputs": [
    {
     "data": {
      "image/png": "[encoded data removed]",
      "text/plain": [
       "<Figure size 864x360 with 2 Axes>"
      ]
     },
     "metadata": {
      "needs_background": "light"
     },
     "output_type": "display_data"
    }
   ],
   "source": [
    "estr1_cover, estr2_cover = {}, {}\n",
    "for d in delta:\n",
    "    estr1_cover[d] = np.mean(ci_estr1[d])\n",
    "    estr2_cover[d] = np.mean(ci_estr2[d])\n",
    "\n",
    "\n",
    "plt.figure(figsize=[12, 5])\n",
    "plt.subplot(121)\n",
    "plt.plot(estr1_cover.keys(), estr1_cover.values(), 'o-', color='blue')\n",
    "plt.hlines(0.95, -5.1, 5.1, colors='k', linestyles='--')\n",
    "plt.xlabel(r\"$\\delta$\")\n",
    "plt.ylabel(\"Confidence interval \\n coverage\")\n",
    "plt.ylim([0.8, 1])\n",
    "plt.xlim([-5.1, 5.1])\n",
    "\n",
    "plt.subplot(122)\n",
    "plt.plot(estr2_cover.keys(), estr2_cover.values(), 'o-', color='blue')\n",
    "plt.hlines(0.95, -5.1, 5.1, colors='k', linestyles='--')\n",
    "plt.xlabel(r\"$\\delta$\")\n",
    "plt.ylabel(\"Confidence interval \\n coverage\")\n",
    "plt.ylim([0.8, 1])\n",
    "plt.xlim([-5.1, 5.1])\n",
    "\n",
    "plt.tight_layout()"
   ]
  },
  {
   "cell_type": "markdown",
   "id": "ca60c15a",
   "metadata": {},
   "source": [
    "As seen here, both approaches peform similarly in our simulation. While no difference was observed in our simulation, the first estimator is to be preferred on theoretical grounds (there may be cases where there is an important difference between the two and the latter estimator is expected to have poor confidence interval coverage in those cases)."
   ]
  }
 ],
 "metadata": {
  "kernelspec": {
   "display_name": "Python 3",
   "language": "python",
   "name": "python3"
  },
  "language_info": {
   "codemirror_mode": {
    "name": "ipython",
    "version": 3
   },
   "file_extension": ".py",
   "mimetype": "text/x-python",
   "name": "python",
   "nbconvert_exporter": "python",
   "pygments_lexer": "ipython3",
   "version": "3.6.5"
  }
 },
 "nbformat": 4,
 "nbformat_minor": 5
}
