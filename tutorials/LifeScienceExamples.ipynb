{
 "cells": [
  {
   "cell_type": "markdown",
   "id": "c0801168",
   "metadata": {},
   "source": [
    "# M-estimation for Life Science Research\n",
    "Using life science research examples, we demonstrate the following advantages of M-estimation: robust statistics, automatic estimation of the variance for transformations of parameters, and lets uncertainty in nuisance parameters to propagate to the interest parameter."
   ]
  },
  {
   "cell_type": "code",
   "execution_count": 1,
   "id": "744be0a9",
   "metadata": {},
   "outputs": [
    {
     "name": "stdout",
     "output_type": "stream",
     "text": [
      "NumPy version:        1.19.5\n",
      "SciPy version:        1.5.4\n",
      "Pandas version:       1.1.5\n",
      "Matplotlib version:   3.3.4\n",
      "Delicatessen version: 0.1\n"
     ]
    }
   ],
   "source": [
    "# Loading packages for examples\n",
    "import numpy as np\n",
    "import scipy as sp\n",
    "import pandas as pd\n",
    "import matplotlib\n",
    "import matplotlib.pyplot as plt\n",
    "%matplotlib inline\n",
    "\n",
    "import delicatessen\n",
    "from delicatessen import MEstimator\n",
    "from delicatessen.data import load_robust_regress, load_inderjit\n",
    "from delicatessen.estimating_equations import (ee_linear_regression, ee_robust_linear_regression,\n",
    "                                               ee_3p_logistic, ee_effective_dose_delta,\n",
    "                                               ee_logistic_regression)\n",
    "from delicatessen.utilities import inverse_logit\n",
    "\n",
    "decimal_places = 3\n",
    "np.random.seed(51520837)\n",
    "\n",
    "print(\"NumPy version:       \", np.__version__)\n",
    "print(\"SciPy version:       \", sp.__version__)\n",
    "print(\"Pandas version:      \", pd.__version__)\n",
    "print(\"Matplotlib version:  \", matplotlib.__version__)\n",
    "print(\"Delicatessen version:\", delicatessen.__version__)"
   ]
  },
  {
   "cell_type": "markdown",
   "id": "8b291ac4",
   "metadata": {},
   "source": [
    "## Case Study 1: Robust Linear Regression\n",
    "For the first example, we will look at robust regression. Outliers are a common problem across topic areas. The presence of outliers can produce unstable results, but merely excluding outliers should only be done when clearly a result of experimental error. To produce more reliable results with outliers, robust regression is an alternative. Rather than exclude outliers, robust regression allows them to contribute but reduces their overall influence on the estimated parameters. \n",
    "\n",
    "In this first case study, we compare 3 regression models with a simulated data set. First, we fit a regression model to data without an outlier as a reference point. Then an outlier was introduced and we compare standard linear regression with robust regression. All regression models were estimated using `delicatessen`'s pre-built estimating equations."
   ]
  },
  {
   "cell_type": "code",
   "execution_count": 2,
   "id": "11de71f2",
   "metadata": {},
   "outputs": [],
   "source": [
    "# Loading the data without the outlier to generate reference\n",
    "d = load_robust_regress(outlier=False)       # Loads data without outlier\n",
    "x = d[:, 0]                                  # Extract X-values (height)\n",
    "y = d[:, 1]                                  # Extract Y-values (weight)\n",
    "X = np.vstack((np.ones(x.shape[0]), x)).T    # Generate array of intercept and X values\n",
    "\n",
    "\n",
    "def psi_case1_standard(theta):\n",
    "    \"\"\"Built-in estimating equation for linear regression.\n",
    "    \"\"\"\n",
    "    return ee_linear_regression(theta=theta, \n",
    "                                X=X, \n",
    "                                y=y)\n",
    "\n",
    "\n",
    "# Linear regression without the outlier for reference\n",
    "lme = MEstimator(psi_case1_standard, \n",
    "                 init=[0., 0.])\n",
    "lme.estimate(solver='hybr')"
   ]
  },
  {
   "cell_type": "code",
   "execution_count": 3,
   "id": "4a9c9c2e",
   "metadata": {},
   "outputs": [],
   "source": [
    "# Loading the data with the outlier\n",
    "d = load_robust_regress(outlier=True)       # Loads data with outlier\n",
    "y = d[:, 1]                                 # Extract Y-values (weight) with the outlier\n",
    "\n",
    "# Linear regression with the outlier\n",
    "ulme = MEstimator(psi_case1_standard, \n",
    "                  init=[0., 0.])\n",
    "ulme.estimate(solver='hybr')"
   ]
  },
  {
   "cell_type": "code",
   "execution_count": 4,
   "id": "bdd0a577",
   "metadata": {},
   "outputs": [],
   "source": [
    "def psi_case1_robust(theta):\n",
    "    \"\"\"Built-in estimating equation for robust linear regression\n",
    "    \"\"\"\n",
    "    return ee_robust_linear_regression(theta=theta, \n",
    "                                       X=X, \n",
    "                                       y=y, \n",
    "                                       k=1.345)\n",
    "\n",
    "\n",
    "# Notice: the theta from the previous regression is used as pre-washed covariates\n",
    "#   since robust regression can sometimes fail when starting values are too far.\n",
    "rlme = MEstimator(psi_case1_robust, \n",
    "                  init=ulme.theta)\n",
    "rlme.estimate(solver='hybr')"
   ]
  },
  {
   "cell_type": "code",
   "execution_count": 5,
   "id": "65549ed1",
   "metadata": {},
   "outputs": [
    {
     "name": "stderr",
     "output_type": "stream",
     "text": [
      "C:\\Users\\zivic\\.pyenv\\pyenv-win\\versions\\3.6.5\\lib\\site-packages\\matplotlib\\patches.py:1338: VisibleDeprecationWarning: Creating an ndarray from ragged nested sequences (which is a list-or-tuple of lists-or-tuples-or ndarrays with different lengths or shapes) is deprecated. If you meant to do this, you must specify 'dtype=object' when creating the ndarray\n",
      "  verts = np.dot(coords, M) + (x + dx, y + dy)\n"
     ]
    },
    {
     "data": {
      "image/png": "[encoded data removed]",
      "text/plain": [
       "<Figure size 432x288 with 1 Axes>"
      ]
     },
     "metadata": {
      "needs_background": "light"
     },
     "output_type": "display_data"
    }
   ],
   "source": [
    "# Displaying results\n",
    "plt.figure(figsize=[6, 4])\n",
    "\n",
    "xlin = np.linspace(159, 170, 100)\n",
    "\n",
    "# Plotting linear model results\n",
    "plt.plot(xlin, lme.theta[0] + xlin*lme.theta[1],\n",
    "         '--', color='k', label='Before outlier')\n",
    "plt.plot(xlin, ulme.theta[0] + xlin*ulme.theta[1],\n",
    "         '-', color='red', label='After outlier')\n",
    "plt.plot(xlin, rlme.theta[0] + xlin*rlme.theta[1],\n",
    "         '-', color='blue', label='Robust')\n",
    "\n",
    "# Plotting the data points (including the outlier)\n",
    "plt.scatter(x, y, s=40, c='gray', edgecolors='k', label=None, zorder=4)\n",
    "plt.scatter([159.386], y[x == 159.386] - 3, s=50, c='gray', edgecolors='k', zorder=4)\n",
    "plt.scatter([159.386], y[x == 159.386], s=50, c='red', edgecolors='k', zorder=5)\n",
    "plt.arrow(159.386, y[x == 159.386] - 2.75, 0, 2.1, head_width=0.2, facecolor='k', zorder=5)\n",
    "\n",
    "# Making nice labels for graph\n",
    "plt.xlabel(\"Height (cm)\")\n",
    "plt.ylabel(\"Weight (kg)\")\n",
    "plt.legend()\n",
    "\n",
    "# Outputting result\n",
    "plt.tight_layout()"
   ]
  },
  {
   "cell_type": "markdown",
   "id": "44d668fc",
   "metadata": {},
   "source": [
    "## Case Study 2: Dose-Response Curve\n",
    "As a second case study, we consider estimation of dose-response relationships. Here, we replicate the results of Ritz et al. (2015) using data on herbicides and ryegrass root length (Inderjit et al. (2002)).\n",
    "\n",
    "As there is a natural lower bound for root length, we used a 3-parameter log-logistic (3PL) model. Therefore, the 3PL model consists of the following parameters: halfway maximum effective concentration, steepness of the dose-response curve, and upper limit. In addition to the halfway (50%) effective concentration, we also estimate the 20% effective concentration. Both functionalities are provided in `delicatessen` with built-in estimating equations.\n",
    "\n",
    "Here, another advantage of M-estimation is demonstrated. Specifically, the sandwich variance estimator allows us to estimate the variance for transformations of the parameters without any extra work (e.g., 20% effective concentration). "
   ]
  },
  {
   "cell_type": "code",
   "execution_count": 6,
   "id": "67b28522",
   "metadata": {},
   "outputs": [],
   "source": [
    "d = load_inderjit()"
   ]
  },
  {
   "cell_type": "code",
   "execution_count": 7,
   "id": "ad30a72b",
   "metadata": {},
   "outputs": [],
   "source": [
    "def psi(theta):\n",
    "    # Asserting that the lower limit is zero\n",
    "    lower_limit = 0\n",
    "\n",
    "    # Estimating equations for the 3PL model\n",
    "    pl3 = ee_3p_logistic(theta=theta[0:3], \n",
    "                         X=d[:, 1], y=d[:, 0], \n",
    "                         lower=lower_limit)\n",
    "\n",
    "    # Estimating equations for the effective concentrations\n",
    "    ed20 = ee_effective_dose_delta(theta[3], y=d[:, 0], delta=0.20,\n",
    "                                   steepness=theta[0], ed50=theta[1],\n",
    "                                   lower=lower_limit, upper=theta[2])\n",
    "\n",
    "    # Returning stacked estimating equations\n",
    "    return np.vstack((pl3,\n",
    "                      ed20))\n",
    "\n",
    "\n",
    "# Optimization procedure\n",
    "mest = MEstimator(psi, init=[2, 1, 10, 1])\n",
    "mest.estimate(solver='lm', maxiter=2000)\n",
    "ci_theta = mest.confidence_intervals()"
   ]
  },
  {
   "cell_type": "code",
   "execution_count": 8,
   "id": "f6f056cc",
   "metadata": {},
   "outputs": [
    {
     "name": "stdout",
     "output_type": "stream",
     "text": [
      "==================================\n",
      "Case Study 2: Results\n",
      "==================================\n",
      "ED(50)\n",
      "----------------------------------\n",
      "Est:    3.263\n",
      "95% CI: [2.743 3.784]\n",
      "----------------------------------\n",
      "Steepness\n",
      "----------------------------------\n",
      "Est:    2.47\n",
      "95% CI: [1.897 3.043]\n",
      "----------------------------------\n",
      "Upper Limit\n",
      "----------------------------------\n",
      "Est:    7.855\n",
      "95% CI: [7.554 8.157]\n",
      "----------------------------------\n",
      "ED(20)\n",
      "----------------------------------\n",
      "Est:    1.862\n",
      "95% CI: [1.581 2.143]\n",
      "=========================================\n"
     ]
    }
   ],
   "source": [
    "# Printing the results to the console\n",
    "print(\"==================================\")\n",
    "print(\"Case Study 2: Results\")\n",
    "print(\"==================================\")\n",
    "print(\"ED(50)\")\n",
    "print(\"----------------------------------\")\n",
    "print(\"Est:   \", np.round(mest.theta[0], decimal_places))\n",
    "print(\"95% CI:\", np.round(ci_theta[0],\n",
    "                          decimal_places))\n",
    "print(\"----------------------------------\")\n",
    "print(\"Steepness\")\n",
    "print(\"----------------------------------\")\n",
    "print(\"Est:   \", np.round(mest.theta[1], decimal_places))\n",
    "print(\"95% CI:\", np.round(ci_theta[1],\n",
    "                          decimal_places))\n",
    "print(\"----------------------------------\")\n",
    "print(\"Upper Limit\")\n",
    "print(\"----------------------------------\")\n",
    "print(\"Est:   \", np.round(mest.theta[2], decimal_places))\n",
    "print(\"95% CI:\", np.round(ci_theta[2],\n",
    "                          decimal_places))\n",
    "print(\"----------------------------------\")\n",
    "print(\"ED(20)\")\n",
    "print(\"----------------------------------\")\n",
    "print(\"Est:   \", np.round(mest.theta[3], decimal_places))\n",
    "print(\"95% CI:\", np.round(ci_theta[3],\n",
    "                          decimal_places))\n",
    "print(\"=========================================\")"
   ]
  },
  {
   "cell_type": "code",
   "execution_count": 9,
   "id": "da6eed80",
   "metadata": {},
   "outputs": [
    {
     "data": {
      "image/png": "[encoded data removed]",
      "text/plain": [
       "<Figure size 432x288 with 1 Axes>"
      ]
     },
     "metadata": {
      "needs_background": "light"
     },
     "output_type": "display_data"
    }
   ],
   "source": [
    "# Displaying results\n",
    "plt.figure(figsize=[6, 4])\n",
    "\n",
    "x = np.linspace(0, 100, 5000)\n",
    "theta = mest.theta\n",
    "y = 0 + (theta[2] - 0) / (1 + (x/theta[0])**theta[1])\n",
    "\n",
    "# Plotting points and drawing dose-response line\n",
    "plt.plot(x, y, '-', color='blue', linewidth=2)\n",
    "plt.scatter(d[:, 1], d[:, 0], s=40, c='gray', edgecolors='k', zorder=5)\n",
    "\n",
    "plt.ylim([0, 9])\n",
    "plt.ylabel(\"Root length (cm)\")\n",
    "plt.xscale('symlog', linthresh=0.3)\n",
    "plt.xlim([-0.02, 100])\n",
    "plt.xticks([0, 1, 10, 30, 100],\n",
    "           [\"0\", \"1\", \"10\", \"30\", \"100\"])\n",
    "plt.xlabel(\"Ferulic acid (mM)\")\n",
    "plt.tight_layout()"
   ]
  },
  {
   "cell_type": "markdown",
   "id": "24925a93",
   "metadata": {},
   "source": [
    "## Case Study 3: Standardization to external population\n",
    "For the third example, we consider the standardization of results to an external population. Specifically, we consider the case when the available data is not a random sample of the population of interest. As an archetypical example, consider the biomarker data among HIV patients (n=57) in Kamat et al. (2012). When comparing the prevalence of recent drug use (either cocaine or opiates) to the MACS/WIHS combined cohorts for 2018-2019,14 drug use is notably higher in Kamat et al.’s sample (70% versus 8%). As Kamat et al. further reported differential biomarker expression by cocaine use, these patterns may mean that the summary statistics for the biomarkers are not broadly generalizable.\n",
    "\n",
    "To  account for the discrepancy in drug use, we standardized the mean for select biomarkers to the distribution of drug use in the MACS/WIHS cohorts using inverse odds weights. Inverse odds weights are estimated using a logistic regression model. Using the estimated inverse odds weights, the weighted means for each biomarker are then calculated.\n",
    "\n",
    "While the parameters for the logistic model are not of primary interest (i.e., nuisance parameters), the estimates of weighted mean biomarkers depend on those regression parameters through the weights. This dependence means that the variance of the logistic model parameters should carry forward into the variance of the weighted means. Otherwise, there is a danger in underestimating the uncertainty. M-estimation addresses this problem by propagating the uncertainty of nuisance parameters through the stacked estimating equations and sandwich variance. This can be done by stacking the estimating equations for the logistic model and for the weighted biomarker means together. In this example, we provide both the unstandardized and standardized results."
   ]
  },
  {
   "cell_type": "code",
   "execution_count": 10,
   "id": "e9a460eb",
   "metadata": {},
   "outputs": [],
   "source": [
    "# Loading Kamat et al. 2012\n",
    "d1 = pd.read_csv(\"data/kamat.et.al.2012_biomarkers.csv\")\n",
    "d1['drug_use'] = np.where(d1['Cocaine'] + d1['Opiate'] > 0, 1, 0)\n",
    "d1['S'] = 1\n",
    "biomarkers = ['IFN_alpha', 'CXCL9', 'CXCL10', 'sIL-2R', 'IL12']\n",
    "d1 = d1[['drug_use', 'S', ] + biomarkers].copy()\n",
    "for bm in biomarkers:\n",
    "    d1[bm] = np.log(d1[bm])\n",
    "\n",
    "\n",
    "# MACS/ WIHS in 2018-2019 of cocaine or heroin use in previous 6 months\n",
    "d0 = pd.DataFrame()\n",
    "d0['drug_use'] = [1]*300 + [0]*(4016-300)\n",
    "d0['S'] = 0\n",
    "\n",
    "\n",
    "# Stacking data together and adding constant for model\n",
    "d = pd.concat([d0, d1])           # Stacking data sets together\n",
    "d['constant'] = 1                 # Creating constant for the intercept in the logit model\n",
    "d[biomarkers] = d[biomarkers].fillna(9999)"
   ]
  },
  {
   "cell_type": "code",
   "execution_count": 11,
   "id": "6c93b4e9",
   "metadata": {},
   "outputs": [],
   "source": [
    "def psi_standard_mean(theta):\n",
    "    # Returning stacked estimating equations\n",
    "    return (np.asarray(d1['IFN_alpha']) - theta[0],\n",
    "            np.asarray(d1['CXCL9']) - theta[1],\n",
    "            np.asarray(d1['CXCL10']) - theta[2],\n",
    "            np.asarray(d1['sIL-2R']) - theta[3],\n",
    "            np.asarray(d1['IL12']) - theta[4], )\n",
    "\n",
    "\n",
    "nm = MEstimator(psi_standard_mean, init=[1]*5)  # ... and starting value for optimization procedure\n",
    "nm.estimate()                                   # Run M-estimator and compute estimates"
   ]
  },
  {
   "cell_type": "code",
   "execution_count": 12,
   "id": "47fddcd6",
   "metadata": {},
   "outputs": [],
   "source": [
    "# Weighted means to standardize to population\n",
    "x = np.asarray(d[['constant', 'drug_use']])\n",
    "s = np.asarray(d['S'])\n",
    "\n",
    "\n",
    "def psi_weighted_mean(theta):                           # Function for the estimating equations\n",
    "    global x, y, s\n",
    "\n",
    "    # Estimating weights\n",
    "    nuisance = ee_logistic_regression(theta=theta[:2],\n",
    "                                      X=x, y=s)\n",
    "    pi = inverse_logit(np.dot(x, theta[:2]))\n",
    "    weight = np.where(s == 1, (1-pi)/pi, 0)\n",
    "\n",
    "    # Returning stacked estimating equations\n",
    "    return np.vstack((nuisance,\n",
    "                      s*weight*(np.asarray(d['IFN_alpha']) - theta[2]),\n",
    "                      s*weight*(np.asarray(d['CXCL9']) - theta[3]),\n",
    "                      s*weight*(np.asarray(d['CXCL10']) - theta[4]),\n",
    "                      s*weight*(np.asarray(d['sIL-2R']) - theta[5]),\n",
    "                      s*weight*(np.asarray(d['IL12']) - theta[6]), )\n",
    "                     )\n",
    "\n",
    "\n",
    "wm = MEstimator(psi_weighted_mean, init=[0, 0] + [1]*5)  # ... and starting value for optimization procedure\n",
    "wm.estimate()                                            # Run M-estimator and compute estimates"
   ]
  },
  {
   "cell_type": "code",
   "execution_count": 13,
   "id": "a02ad1c7",
   "metadata": {},
   "outputs": [
    {
     "data": {
      "image/png": "[encoded data removed]",
      "text/plain": [
       "<Figure size 432x288 with 1 Axes>"
      ]
     },
     "metadata": {
      "needs_background": "light"
     },
     "output_type": "display_data"
    }
   ],
   "source": [
    "# Displaying results\n",
    "plt.figure(figsize=[6, 4])\n",
    "\n",
    "# Plotting point estimates\n",
    "plt.scatter(nm.theta, [i-0.2 for i in range(len(biomarkers))],\n",
    "            s=40, color='red', edgecolors='k', marker='D', zorder=3, label='Naive')\n",
    "plt.scatter(wm.theta[2:], [i+0.2 for i in range(len(biomarkers))],\n",
    "            s=40, color='blue', edgecolors='k', marker='D', zorder=3, label='Standardized')\n",
    "\n",
    "# Plotting confidence intervals\n",
    "plt.hlines([i-0.2 for i in range(len(biomarkers))],\n",
    "           nm.theta - 1.96*np.diag(nm.variance)**0.5,\n",
    "           nm.theta + 1.96 * np.diag(nm.variance)**0.5,\n",
    "           colors='red')\n",
    "plt.hlines([i+0.2 for i in range(len(biomarkers))],\n",
    "           wm.theta[2:] - 1.96*np.diag(wm.variance)[2:]**0.5,\n",
    "           wm.theta[2:] + 1.96 * np.diag(wm.variance)[2:]**0.5,\n",
    "           colors='blue')\n",
    "\n",
    "# Some shaded regions to make it easier to examine\n",
    "plt.fill_between([3, 7.5], [3.5, 3.5], [2.5, 2.5], color='gray', alpha=0.1)\n",
    "plt.fill_between([3, 7.5], [1.5, 1.5], [0.5, 0.5], color='gray', alpha=0.1)\n",
    "\n",
    "plt.yticks([i for i in range(len(biomarkers))],\n",
    "           ['IFN-α', 'CXCL9', 'CXCL10', 'sIL-2R', 'IL-12'])\n",
    "plt.ylim([4.5, -0.5])\n",
    "plt.xlim([3.5, 7.5])\n",
    "plt.xlabel(\"Mean of log-transformed biomarkers\")\n",
    "plt.legend()\n",
    "plt.tight_layout()"
   ]
  },
  {
   "cell_type": "markdown",
   "id": "06380eb7",
   "metadata": {},
   "source": [
    "This concludes the 3 illustrative life science research examples.\n",
    "\n",
    "## References\n",
    "Ritz, C., Baty, F., Streibig, J. C. & Gerhard, D. Dose-Response Analysis Using R. PLOS ONE 10, e0146021 (2015).\n",
    "\n",
    "Inderjit, Streibig, J. C. & Olofsdotter, M. Joint action of phenolic acid mixtures and its significance in allelopathy research. Physiol Plant 114, 422–428 (2002).\n",
    "\n",
    "Kamat, A. et al. A Plasma Biomarker Signature of Immune Activation in HIV Patients on Antiretroviral Therapy. PLOS ONE 7, e30881 (2012).\n"
   ]
  }
 ],
 "metadata": {
  "kernelspec": {
   "display_name": "Python 3",
   "language": "python",
   "name": "python3"
  },
  "language_info": {
   "codemirror_mode": {
    "name": "ipython",
    "version": 3
   },
   "file_extension": ".py",
   "mimetype": "text/x-python",
   "name": "python",
   "nbconvert_exporter": "python",
   "pygments_lexer": "ipython3",
   "version": "3.6.5"
  }
 },
 "nbformat": 4,
 "nbformat_minor": 5
}
