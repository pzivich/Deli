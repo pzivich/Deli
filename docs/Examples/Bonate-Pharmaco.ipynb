{
 "cells": [
  {
   "cell_type": "markdown",
   "id": "1f25ba4a",
   "metadata": {},
   "source": [
    "# Bonate (2011): Pharmacokinetic-Pharmacodynamic Modeling and Simulations\n",
    "\n",
    "Here, we replicate some of the examples described in Bonate (2011). I recommend following along with the 2nd edition of the book. The purpose of this notebook is to illustrate the versatility of `delicatessen` by illustrating its application for pharmacokinetic modeling. This can easily be done by using the built-in estimating equations, as will be shown.\n",
    "\n",
    "Bonate PL. (2011). Pharmacokinetic-Pharmacodynamic Modeling and Simulations. 2nd Edition. Springer, New York, NY.\n",
    "\n",
    "## Setup"
   ]
  },
  {
   "cell_type": "code",
   "execution_count": 1,
   "id": "4d95e437",
   "metadata": {},
   "outputs": [
    {
     "name": "stdout",
     "output_type": "stream",
     "text": [
      "NumPy version:        1.25.2\n",
      "SciPy version:        1.11.2\n",
      "Pandas version:       1.4.1\n",
      "Delicatessen version: 2.2\n"
     ]
    }
   ],
   "source": [
    "import numpy as np\n",
    "import scipy as sp\n",
    "import pandas as pd\n",
    "import statsmodels.api as sm\n",
    "import statsmodels.formula.api as smf\n",
    "\n",
    "import delicatessen\n",
    "from delicatessen import MEstimator\n",
    "from delicatessen.estimating_equations import ee_glm\n",
    "\n",
    "np.random.seed(80950841)\n",
    "\n",
    "print(\"NumPy version:       \", np.__version__)\n",
    "print(\"SciPy version:       \", sp.__version__)\n",
    "print(\"Pandas version:      \", pd.__version__)\n",
    "print(\"Delicatessen version:\", delicatessen.__version__)"
   ]
  },
  {
   "cell_type": "markdown",
   "id": "5606b501",
   "metadata": {},
   "source": [
    "## Chapter 11: Generalized Linear Models and Its Extensions\n",
    "\n",
    "\n",
    "### Adverse Events Case Study\n",
    "\n",
    "The first example from Chapter 11 is the *Case Study: Assessing the Relationship Between Drug Concentrations and Adverse Events Using Logistic Regression*. Data comes from Table 2 of the book. In the book, a variety of different models for different adverse events are considered. Here, we only consider nausea (and vomiting) by AUC. For the one observations with a missing AUC value, they are dropped from the data set (same as the book). For ease of examining the coefficients, we will also divide the AUC value by 1000. This means the coefficients for AUC are rescaled from those reported in the book.\n",
    "\n",
    "First, we load the data set and transform the coefficients and add an intercept column to the data set"
   ]
  },
  {
   "cell_type": "code",
   "execution_count": 2,
   "id": "1be76e83",
   "metadata": {},
   "outputs": [
    {
     "name": "stdout",
     "output_type": "stream",
     "text": [
      "<class 'pandas.core.frame.DataFrame'>\n",
      "Int64Index: 42 entries, 0 to 42\n",
      "Data columns (total 12 columns):\n",
      " #   Column     Non-Null Count  Dtype  \n",
      "---  ------     --------------  -----  \n",
      " 0   id         42 non-null     int64  \n",
      " 1   c_max      42 non-null     float64\n",
      " 2   auc        42 non-null     float64\n",
      " 3   age        42 non-null     int64  \n",
      " 4   sex        42 non-null     int64  \n",
      " 5   ps         42 non-null     int64  \n",
      " 6   myalgia    42 non-null     int64  \n",
      " 7   phlebitis  42 non-null     int64  \n",
      " 8   asthenia   42 non-null     int64  \n",
      " 9   diarrhea   42 non-null     int64  \n",
      " 10  nausea     42 non-null     int64  \n",
      " 11  intercept  42 non-null     int64  \n",
      "dtypes: float64(2), int64(10)\n",
      "memory usage: 4.3 KB\n"
     ]
    }
   ],
   "source": [
    "d = pd.read_csv(\"data/bonate.csv\").dropna()\n",
    "d['intercept'] = 1   # Adding intercept to data\n",
    "d['auc'] /= 1000     # Rescaling AUC\n",
    "d['c_max'] /= 1000   # Rescaling C_max\n",
    "d.info()"
   ]
  },
  {
   "cell_type": "code",
   "execution_count": 3,
   "id": "143778ea",
   "metadata": {},
   "outputs": [],
   "source": [
    "table = pd.DataFrame(columns=[\"Model\", \"Intercept\", \"AUC\", \"Sex\", \"Age\", \"PS\"])"
   ]
  },
  {
   "cell_type": "markdown",
   "id": "02260fdc",
   "metadata": {},
   "source": [
    "To begin, we will fit a null (intercept-only) logistic regression model. This is easily done by using the built-in `ee_glm` estimating equation. For the logistic model, we specify a binomial distribution with the logit link. Below is code to setup the estimating equation and then estimate the parameters using `MEstimator`"
   ]
  },
  {
   "cell_type": "code",
   "execution_count": 4,
   "id": "207e9a4e",
   "metadata": {},
   "outputs": [],
   "source": [
    "def psi(theta):\n",
    "    # Estimating equation for null model\n",
    "    return ee_glm(theta=theta,\n",
    "                  y=d['nausea'],\n",
    "                  X=d[['intercept', ]],\n",
    "                  distribution='binomial',\n",
    "                  link='logit')\n",
    "\n",
    "\n",
    "# Estimate the parameters of the logit model\n",
    "estr_null = MEstimator(psi, init=[0., ])\n",
    "estr_null.estimate()\n",
    "\n",
    "# Adding results to the output table\n",
    "table.loc[len(table)] = [\"Null\", estr_null.theta[0], ] + [np.nan, ]*4"
   ]
  },
  {
   "cell_type": "markdown",
   "id": "5e0cb694",
   "metadata": {},
   "source": [
    "Next we fit a logistic regression model that includes linear terms for all the independent variables in the data set. This is easily done by modifying the previous design matrix (i.e., `X`). Below is code to fit the full model"
   ]
  },
  {
   "cell_type": "code",
   "execution_count": 5,
   "id": "8d17c1bd",
   "metadata": {},
   "outputs": [],
   "source": [
    "def psi(theta):\n",
    "    # Estimating equation for full model\n",
    "    return ee_glm(theta=theta,\n",
    "                  y=d['nausea'],\n",
    "                  X=d[['intercept', 'auc', 'sex', 'age', 'ps']],\n",
    "                  distribution='binomial',\n",
    "                  link='logit')\n",
    "\n",
    "\n",
    "# Estimate the parameters of the logit model\n",
    "estr_full = MEstimator(psi, init=[0., ]*5)\n",
    "estr_full.estimate()\n",
    "\n",
    "# Adding results to the output table\n",
    "table.loc[len(table)] = [\"Full\", ] + list(estr_full.theta)"
   ]
  },
  {
   "cell_type": "markdown",
   "id": "8f579eda",
   "metadata": {},
   "source": [
    "In the book, Bonate performs some variable selection. In general, we would not recommend use of backwards-selection procedures (like those done in the book). Such procedures complicate inference (P-values and confidence intervals after these procedures are no longer valid). For comparison purposes, we estimate the reduced model reported in the book. Again, this is easily done by modifying the `X` argument for `ee_glm`"
   ]
  },
  {
   "cell_type": "code",
   "execution_count": 6,
   "id": "6558123b",
   "metadata": {},
   "outputs": [],
   "source": [
    "def psi(theta):\n",
    "    # Estimating equation for reduced model\n",
    "    return ee_glm(theta=theta,\n",
    "                  y=d['nausea'],\n",
    "                  X=d[['intercept', 'auc', 'sex']],\n",
    "                  distribution='binomial',\n",
    "                  link='logit')\n",
    "\n",
    "\n",
    "# Estimate the parameters of the logit model\n",
    "estr_redu = MEstimator(psi, init=[0., ]*3)\n",
    "estr_redu.estimate()\n",
    "\n",
    "# Adding results to the output table\n",
    "table.loc[len(table)] = [\"Reduced\", ] + list(estr_redu.theta) + [np.nan, ]*2"
   ]
  },
  {
   "cell_type": "markdown",
   "id": "c4c8ff25",
   "metadata": {},
   "source": [
    "Finally, two alternative models are considered: a probit regression model and a complimentary log-log model. Again, these models are easily implemented using `ee_glm`. For the probit model, we set the link equal to `probit`"
   ]
  },
  {
   "cell_type": "code",
   "execution_count": 7,
   "id": "24a66642",
   "metadata": {},
   "outputs": [],
   "source": [
    "def psi(theta):\n",
    "    # Estimating equation for reduced probit model\n",
    "    return ee_glm(theta=theta,\n",
    "                  y=d['nausea'],\n",
    "                  X=d[['intercept', 'auc', 'sex']],\n",
    "                  distribution='binomial',\n",
    "                  link='probit')\n",
    "\n",
    "\n",
    "# Estimate the parameters of the probit model\n",
    "estr_prob = MEstimator(psi, init=[0., ]*3)\n",
    "estr_prob.estimate()\n",
    "\n",
    "# Adding results to the output table\n",
    "table.loc[len(table)] = [\"Probit\", ] + list(estr_prob.theta) + [np.nan, ]*2"
   ]
  },
  {
   "cell_type": "markdown",
   "id": "643eb533",
   "metadata": {},
   "source": [
    "Similarly, the complimentary log-log model only requires setting the link to `cloglog`"
   ]
  },
  {
   "cell_type": "code",
   "execution_count": 8,
   "id": "6858e649",
   "metadata": {},
   "outputs": [],
   "source": [
    "def psi(theta):\n",
    "    # Estimating equation for reduced C-log-log model\n",
    "    return ee_glm(theta=theta,\n",
    "                  y=d['nausea'],\n",
    "                  X=d[['intercept', 'auc', 'sex']],\n",
    "                  distribution='binomial',\n",
    "                  link='cloglog')\n",
    "\n",
    "\n",
    "# Estimate the parameters of the cloglog model\n",
    "estr_clog = MEstimator(psi, init=[0., ]*3)\n",
    "estr_clog.estimate()\n",
    "\n",
    "# Adding results to the output table\n",
    "table.loc[len(table)] = [\"Probit\", ] + list(estr_clog.theta) + [np.nan, ]*2"
   ]
  },
  {
   "cell_type": "markdown",
   "id": "c28fe617",
   "metadata": {},
   "source": [
    "Now we can view the results across the different models"
   ]
  },
  {
   "cell_type": "code",
   "execution_count": 9,
   "id": "d90c3a58",
   "metadata": {},
   "outputs": [
    {
     "data": {
      "text/html": [
       "<div>\n",
       "<style scoped>\n",
       "    .dataframe tbody tr th:only-of-type {\n",
       "        vertical-align: middle;\n",
       "    }\n",
       "\n",
       "    .dataframe tbody tr th {\n",
       "        vertical-align: top;\n",
       "    }\n",
       "\n",
       "    .dataframe thead th {\n",
       "        text-align: right;\n",
       "    }\n",
       "</style>\n",
       "<table border=\"1\" class=\"dataframe\">\n",
       "  <thead>\n",
       "    <tr style=\"text-align: right;\">\n",
       "      <th></th>\n",
       "      <th>Intercept</th>\n",
       "      <th>AUC</th>\n",
       "      <th>Sex</th>\n",
       "      <th>Age</th>\n",
       "      <th>PS</th>\n",
       "    </tr>\n",
       "    <tr>\n",
       "      <th>Model</th>\n",
       "      <th></th>\n",
       "      <th></th>\n",
       "      <th></th>\n",
       "      <th></th>\n",
       "      <th></th>\n",
       "    </tr>\n",
       "  </thead>\n",
       "  <tbody>\n",
       "    <tr>\n",
       "      <th>Null</th>\n",
       "      <td>-0.587787</td>\n",
       "      <td>NaN</td>\n",
       "      <td>NaN</td>\n",
       "      <td>NaN</td>\n",
       "      <td>NaN</td>\n",
       "    </tr>\n",
       "    <tr>\n",
       "      <th>Full</th>\n",
       "      <td>-5.602899</td>\n",
       "      <td>0.289785</td>\n",
       "      <td>1.730299</td>\n",
       "      <td>0.049538</td>\n",
       "      <td>0.220545</td>\n",
       "    </tr>\n",
       "    <tr>\n",
       "      <th>Reduced</th>\n",
       "      <td>-2.663522</td>\n",
       "      <td>0.303502</td>\n",
       "      <td>1.772238</td>\n",
       "      <td>NaN</td>\n",
       "      <td>NaN</td>\n",
       "    </tr>\n",
       "    <tr>\n",
       "      <th>Probit</th>\n",
       "      <td>-1.629729</td>\n",
       "      <td>0.184030</td>\n",
       "      <td>1.080253</td>\n",
       "      <td>NaN</td>\n",
       "      <td>NaN</td>\n",
       "    </tr>\n",
       "    <tr>\n",
       "      <th>Probit</th>\n",
       "      <td>-2.233720</td>\n",
       "      <td>0.193108</td>\n",
       "      <td>1.212290</td>\n",
       "      <td>NaN</td>\n",
       "      <td>NaN</td>\n",
       "    </tr>\n",
       "  </tbody>\n",
       "</table>\n",
       "</div>"
      ],
      "text/plain": [
       "         Intercept       AUC       Sex       Age        PS\n",
       "Model                                                     \n",
       "Null     -0.587787       NaN       NaN       NaN       NaN\n",
       "Full     -5.602899  0.289785  1.730299  0.049538  0.220545\n",
       "Reduced  -2.663522  0.303502  1.772238       NaN       NaN\n",
       "Probit   -1.629729  0.184030  1.080253       NaN       NaN\n",
       "Probit   -2.233720  0.193108  1.212290       NaN       NaN"
      ]
     },
     "execution_count": 9,
     "metadata": {},
     "output_type": "execute_result"
    }
   ],
   "source": [
    "table.set_index(\"Model\")"
   ]
  },
  {
   "cell_type": "markdown",
   "id": "4791334a",
   "metadata": {},
   "source": [
    "These point estimates match those reported in Tables 3 and 4 in the book (note the null model differs slightly, since we dropped the one observation with the missing AUC value to fit this model, but the book does not). These results highlight how `delicatessen` allows one to easily fit a variety of different models. \n",
    "\n",
    "### END\n",
    "\n",
    "This is the end of the current replication."
   ]
  }
 ],
 "metadata": {
  "kernelspec": {
   "display_name": "Python 3 (ipykernel)",
   "language": "python",
   "name": "python3"
  },
  "language_info": {
   "codemirror_mode": {
    "name": "ipython",
    "version": 3
   },
   "file_extension": ".py",
   "mimetype": "text/x-python",
   "name": "python",
   "nbconvert_exporter": "python",
   "pygments_lexer": "ipython3",
   "version": "3.9.4"
  }
 },
 "nbformat": 4,
 "nbformat_minor": 5
}
